{
  "nbformat": 4,
  "nbformat_minor": 0,
  "metadata": {
    "colab": {
      "provenance": [],
      "authorship_tag": "ABX9TyM9cT8ki+IUONAfZQPJfG1R",
      "include_colab_link": true
    },
    "kernelspec": {
      "name": "python3",
      "display_name": "Python 3"
    },
    "language_info": {
      "name": "python"
    }
  },
  "cells": [
    {
      "cell_type": "markdown",
      "metadata": {
        "id": "view-in-github",
        "colab_type": "text"
      },
      "source": [
        "<a href=\"https://colab.research.google.com/github/Jrojas743/mc-2023-juan-rojas/blob/main/Taller%2319.ipynb\" target=\"_parent\"><img src=\"https://colab.research.google.com/assets/colab-badge.svg\" alt=\"Open In Colab\"/></a>"
      ]
    },
    {
      "cell_type": "code",
      "execution_count": 1,
      "metadata": {
        "colab": {
          "base_uri": "https://localhost:8080/"
        },
        "id": "cGLKmaVFuJMB",
        "outputId": "e8b38636-edc3-4c28-806b-ac2597f4517b"
      },
      "outputs": [
        {
          "output_type": "stream",
          "name": "stdout",
          "text": [
            "El resultado de a1 es igual a: 2.2035714285714283 El resultado de a0 es igual a: -3.8999999999999977\n",
            "sr: 14.008214285714303\n",
            "st: 149.96857142857147\n",
            "r2: 0.9065923336318085\n",
            "r: 95.21514236883797\n"
          ]
        }
      ],
      "source": [
        "x=[1,2,3,4,5,6,7]\n",
        "y=[0.2 , 0.5 , 1.8 , 3.4 , 5.7 , 9 , 13.8]\n",
        "\n",
        "n=(len(x))\n",
        "sumaX=0\n",
        "sumaY=0 \n",
        "sumaXelevado=0\n",
        "sumaXY=0\n",
        "\n",
        "for elem in y: \n",
        "  sumaY+=elem\n",
        "\n",
        "promedioY=sumaY/n \n",
        "\n",
        "for elem in x: \n",
        "  sumaX+=elem\n",
        "\n",
        "  elevado=elem**2\n",
        "  sumaXelevado+=elevado\n",
        "promedioX=sumaX/n\n",
        "\n",
        "for i in range(len(x)):\n",
        "  sumaXY+=x[i]*y[i]\n",
        "\n",
        "a1=(n*sumaXY-sumaX*sumaY)/(n*sumaXelevado-(sumaX)**2)\n",
        "\n",
        "a0=promedioY-a1*promedioX \n",
        "\n",
        "print(\"El resultado de a1 es igual a:\", a1, \"El resultado de a0 es igual a:\", a0)\n",
        "\n",
        "\n",
        "sr=0 \n",
        "st=0 \n",
        "\n",
        "for elem in y:\n",
        "\n",
        "  st+= (elem-promedioY)**2\n",
        "\n",
        "for i in range (len(x)):\n",
        "  sr+= (y[i]-a0-a1*x[i])**2\n",
        "\n",
        "print(f\"sr: {sr}\")  \n",
        "print(f\"st: {st}\")\n",
        "\n",
        "r2= ((st-sr)/st)\n",
        "\n",
        "r= (((r2)**0.5))*100\n",
        "\n",
        "print(f\"r2: {r2}\")  \n",
        "print(f\"r: {r}\")"
      ]
    }
  ]
}